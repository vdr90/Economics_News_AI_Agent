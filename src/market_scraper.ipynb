{
 "cells": [
  {
   "cell_type": "code",
   "execution_count": 1,
   "id": "fa56c689",
   "metadata": {
    "execution": {
     "iopub.execute_input": "2025-05-18T14:30:03.738655Z",
     "iopub.status.busy": "2025-05-18T14:30:03.738471Z",
     "iopub.status.idle": "2025-05-18T14:30:04.338544Z",
     "shell.execute_reply": "2025-05-18T14:30:04.338280Z"
    }
   },
   "outputs": [],
   "source": [
    "import yfinance as yf\n",
    "\n",
    "def get_fx_rates(symbols):\n",
    "    data = yf.download(symbols, period=\"5d\", interval=\"1d\", group_by='ticker', progress=False)\n",
    "    result = {}\n",
    "    for symbol in symbols:\n",
    "        try:\n",
    "            close_series = data[symbol][\"Close\"].dropna()\n",
    "            result[symbol] = close_series.iloc[-1] if not close_series.empty else None\n",
    "        except:\n",
    "            result[symbol] = None\n",
    "    return result\n",
    "\n",
    "def get_crude_prices():\n",
    "    symbols = {\"WTI\": \"CL=F\", \"Brent\": \"BZ=F\"}\n",
    "    prices = get_fx_rates(list(symbols.values()))\n",
    "    return {name: prices[sym] for name, sym in symbols.items()}\n",
    "\n",
    "def get_gold_prices():\n",
    "    symbols = {\"Gold\": \"GC=F\"}\n",
    "    prices = get_fx_rates(list(symbols.values()))\n",
    "    return {name: prices[sym] for name, sym in symbols.items()}\n",
    "\n",
    "def get_us_10y_rate():\n",
    "    try:\n",
    "        data = yf.download(\"^TNX\", period=\"5d\", interval=\"1d\", progress=False)\n",
    "        tnx_value = data[\"Close\"].iloc[-1]\n",
    "        return float(tnx_value)\n",
    "    except:\n",
    "        return None\n",
    "\n",
    "def get_global_indices():\n",
    "    import yfinance as yf\n",
    "\n",
    "    symbols = {\n",
    "        \"S&P 500\": \"^GSPC\", \"Dow Jones\": \"^DJI\", \"Nasdaq\": \"^IXIC\", \"IPC México\": \"^MXX\",\n",
    "        \"Bovespa Brasil\": \"^BVSP\", \"FTSE 100 UK\": \"^FTSE\", \"DAX Alemania\": \"^GDAXI\",\n",
    "        \"CAC 40 Francia\": \"^FCHI\", \"Nikkei Japón\": \"^N225\", \"Hang Seng\": \"^HSI\",\n",
    "        \"Shanghai Comp.\": \"000001.SS\", \"Kospi Corea\": \"^KS11\", \"Sensex India\": \"^BSESN\",\n",
    "        \"ASX 200 Australia\": \"^AXJO\"\n",
    "    }\n",
    "\n",
    "    data = yf.download(list(symbols.values()), period=\"5d\", interval=\"1d\", group_by='ticker', progress=False)\n",
    "    result = {}\n",
    "    for name, sym in symbols.items():\n",
    "        try:\n",
    "            close_series = data[sym][\"Close\"].dropna()\n",
    "            result[name] = close_series.iloc[-1] if not close_series.empty else None\n",
    "        except Exception:\n",
    "            result[name] = None\n",
    "    return result\n",
    "\n"
   ]
  },
  {
   "cell_type": "code",
   "execution_count": 2,
   "id": "610c9eb4",
   "metadata": {
    "execution": {
     "iopub.execute_input": "2025-05-18T14:30:04.339983Z",
     "iopub.status.busy": "2025-05-18T14:30:04.339841Z",
     "iopub.status.idle": "2025-05-18T14:30:07.507754Z",
     "shell.execute_reply": "2025-05-18T14:30:07.507328Z"
    }
   },
   "outputs": [
    {
     "name": "stdout",
     "output_type": "stream",
     "text": [
      "YF.download() has changed argument auto_adjust default to True\n"
     ]
    },
    {
     "name": "stderr",
     "output_type": "stream",
     "text": [
      "/var/folders/pk/5vtlxqtx3l11lzrj4g1k6sl80000gn/T/ipykernel_35679/2036884082.py:28: FutureWarning: Calling float on a single element Series is deprecated and will raise a TypeError in the future. Use float(ser.iloc[0]) instead\n",
      "  return float(tnx_value)\n"
     ]
    },
    {
     "name": "stderr",
     "output_type": "stream",
     "text": [
      "/var/folders/pk/5vtlxqtx3l11lzrj4g1k6sl80000gn/T/ipykernel_35679/2036884082.py:28: FutureWarning: Calling float on a single element Series is deprecated and will raise a TypeError in the future. Use float(ser.iloc[0]) instead\n",
      "  return float(tnx_value)\n"
     ]
    }
   ],
   "source": [
    "from datetime import datetime\n",
    "\n",
    "# Ejecución de scraping\n",
    "symbols = [\n",
    "    \"BRL=X\", \"CLP=X\", \"COP=X\", \"KRW=X\", \"ZAR=X\", \"INR=X\", \"MXN=X\", \"PEN=X\",\n",
    "    \"PLN=X\", \"CZK=X\", \"RUB=X\", \"THB=X\", \"TRY=X\", \"HUF=X\", \"ILS=X\",\n",
    "    \"DX-Y.NYB\", \"ARS=X\", \"CNY=X\", \"IDR=X\", \"MYR=X\"\n",
    "]\n",
    "fx_data = get_fx_rates(symbols)\n",
    "crude = get_crude_prices()\n",
    "gold = get_gold_prices()\n",
    "us_rate = get_us_10y_rate()\n",
    "indices = get_global_indices()\n",
    "\n",
    "\n",
    "datos_diarios = {\n",
    "    \"fecha\": datetime.today().strftime(\"%d/%m/%y\"),\n",
    "    \"fx\": fx_data,\n",
    "    \"crudo\": get_crude_prices(),\n",
    "    \"oro\": get_gold_prices(),\n",
    "    \"tasas\": {\"USY\": get_us_10y_rate()},\n",
    "    \"indices\": get_global_indices()\n",
    "}\n"
   ]
  },
  {
   "cell_type": "code",
   "execution_count": 3,
   "id": "14351c57",
   "metadata": {
    "execution": {
     "iopub.execute_input": "2025-05-18T14:30:07.510200Z",
     "iopub.status.busy": "2025-05-18T14:30:07.509992Z",
     "iopub.status.idle": "2025-05-18T14:30:07.515577Z",
     "shell.execute_reply": "2025-05-18T14:30:07.515131Z"
    }
   },
   "outputs": [
    {
     "name": "stdout",
     "output_type": "stream",
     "text": [
      "✅ Datos guardados como snapshot diario: ../data/scraped_data_180525.json\n"
     ]
    }
   ],
   "source": [
    "from datetime import datetime\n",
    "import os\n",
    "import json\n",
    "\n",
    "# Define ubicación actual\n",
    "#src_path = \"./src\"\n",
    "#os.chdir(src_path)\n",
    "\n",
    "# Asegurar carpeta\n",
    "base_dir = \"../data\"\n",
    "os.makedirs(base_dir, exist_ok=True)\n",
    "\n",
    "# Guardar con fecha del día (scraped_data_ddmmyy.json)\n",
    "fecha_hoy = datetime.today().strftime(\"%d%m%y\")\n",
    "json_diario = f\"scraped_data_{fecha_hoy}.json\"\n",
    "json_path = os.path.join(base_dir, json_diario)\n",
    "\n",
    "with open(json_path, \"w\", encoding=\"utf-8\") as f:\n",
    "    json.dump(datos_diarios, f, indent=2, ensure_ascii=False)\n",
    "\n",
    "print(f\"✅ Datos guardados como snapshot diario: {json_path}\")\n"
   ]
  },
  {
   "cell_type": "code",
   "execution_count": 4,
   "id": "0d4eb371",
   "metadata": {
    "execution": {
     "iopub.execute_input": "2025-05-18T14:30:07.517637Z",
     "iopub.status.busy": "2025-05-18T14:30:07.517469Z",
     "iopub.status.idle": "2025-05-18T14:30:07.523567Z",
     "shell.execute_reply": "2025-05-18T14:30:07.523204Z"
    }
   },
   "outputs": [],
   "source": [
    "# Calcular fecha anterior con lógica de fin de semana\n",
    "import calendar\n",
    "from datetime import datetime, timedelta\n",
    "\n",
    "\n",
    "def obtener_fecha_anterior(fecha_actual):\n",
    "    dia_semana = fecha_actual.weekday()  # lunes=0 ... domingo=6\n",
    "    if dia_semana == 0:  # lunes\n",
    "        delta = 3\n",
    "    elif dia_semana == 6:  # domingo\n",
    "        delta = 2\n",
    "    else:\n",
    "        delta = 1\n",
    "    return fecha_actual - timedelta(days=delta)\n",
    "\n",
    "# Leer archivo anterior si existe\n",
    "fecha_actual_dt = datetime.today()\n",
    "fecha_ayer_dt = obtener_fecha_anterior(fecha_actual_dt)\n",
    "archivo_ayer = f\"scraped_data_{fecha_ayer_dt.strftime('%d%m%y')}.json\"\n",
    "ruta_ayer = os.path.join(base_dir, archivo_ayer)\n",
    "\n",
    "indices_anteriores = {}\n",
    "if os.path.exists(ruta_ayer):\n",
    "    with open(ruta_ayer, \"r\", encoding=\"utf-8\") as f:\n",
    "        datos_ayer = json.load(f)\n",
    "        indices_anteriores = datos_ayer.get(\"indices\", {})\n",
    "\n",
    "# Calcular variaciones\n",
    "indices_actuales = datos_diarios.get(\"indices\", {})\n",
    "indices_variacion = {}\n",
    "for nombre, valor_actual in indices_actuales.items():\n",
    "    valor_anterior = indices_anteriores.get(nombre)\n",
    "    if valor_actual is not None and valor_anterior is not None:\n",
    "        try:\n",
    "            variacion = ((valor_actual - valor_anterior) / valor_anterior) * 100\n",
    "            indices_variacion[nombre] = round(variacion, 2)\n",
    "        except ZeroDivisionError:\n",
    "            indices_variacion[nombre] = None\n",
    "    else:\n",
    "        indices_variacion[nombre] = None\n"
   ]
  },
  {
   "cell_type": "code",
   "execution_count": 5,
   "id": "4b9181ce",
   "metadata": {
    "execution": {
     "iopub.execute_input": "2025-05-18T14:30:07.525665Z",
     "iopub.status.busy": "2025-05-18T14:30:07.525494Z",
     "iopub.status.idle": "2025-05-18T14:30:07.529094Z",
     "shell.execute_reply": "2025-05-18T14:30:07.528694Z"
    }
   },
   "outputs": [
    {
     "name": "stdout",
     "output_type": "stream",
     "text": [
      "✅ Variaciones calculadas y guardadas en scraped_data.json\n"
     ]
    }
   ],
   "source": [
    "# Guardar json con alias scraped_data.json incluyendo variaciones\n",
    "datos_diarios[\"indices_variacion\"] = indices_variacion\n",
    "\n",
    "alias_path = os.path.join(base_dir, \"scraped_data.json\")\n",
    "with open(alias_path, \"w\", encoding=\"utf-8\") as f:\n",
    "    json.dump(datos_diarios, f, indent=2, ensure_ascii=False)\n",
    "\n",
    "print(\"✅ Variaciones calculadas y guardadas en scraped_data.json\")\n"
   ]
  }
 ],
 "metadata": {
  "kernelspec": {
   "display_name": "arquitectura",
   "language": "python",
   "name": "python3"
  },
  "language_info": {
   "codemirror_mode": {
    "name": "ipython",
    "version": 3
   },
   "file_extension": ".py",
   "mimetype": "text/x-python",
   "name": "python",
   "nbconvert_exporter": "python",
   "pygments_lexer": "ipython3",
   "version": "3.11.8"
  }
 },
 "nbformat": 4,
 "nbformat_minor": 5
}
