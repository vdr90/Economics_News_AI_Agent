{
 "cells": [
  {
   "cell_type": "code",
   "execution_count": 1,
   "id": "dbbbe45a",
   "metadata": {
    "execution": {
     "iopub.execute_input": "2025-05-18T14:30:10.280272Z",
     "iopub.status.busy": "2025-05-18T14:30:10.280118Z",
     "iopub.status.idle": "2025-05-18T14:30:10.351527Z",
     "shell.execute_reply": "2025-05-18T14:30:10.351219Z"
    }
   },
   "outputs": [],
   "source": [
    "import requests\n",
    "from bs4 import BeautifulSoup\n",
    "\n",
    "BASE_URL = \"https://finance.yahoo.com\"\n",
    "\n",
    "def get_top_news(n=3):\n",
    "    url = f\"{BASE_URL}/news/\"\n",
    "    headers = {\n",
    "        \"User-Agent\": \"Mozilla/5.0 (Windows NT 10.0; Win64; x64) AppleWebKit/537.36 (KHTML, like Gecko) Chrome/123.0.0.0 Safari/537.36\"\n",
    "    }\n",
    "    res = requests.get(url, headers=headers)\n",
    "\n",
    "    if res.status_code != 200:\n",
    "        print(\"Error al cargar la página:\", res.status_code)\n",
    "        return []\n",
    "\n",
    "    soup = BeautifulSoup(res.content, \"lxml\")\n",
    "\n",
    "    # 🧪 Inspección rápida del contenido\n",
    "    with open(\"yahoo_preview.html\", \"w\", encoding=\"utf-8\") as f:\n",
    "        f.write(soup.prettify())\n",
    "\n",
    "    headlines = []\n",
    "    seen = set()\n",
    "\n",
    "    for tag in soup.select(\"a[href*='/news/']\"):\n",
    "        title = tag.get_text(strip=True)\n",
    "        href = tag.get(\"href\")\n",
    "\n",
    "        if title and len(title) > 40 and href and href not in seen:\n",
    "            full_url = href if href.startswith(\"http\") else BASE_URL + href\n",
    "            headlines.append((title, full_url))\n",
    "            seen.add(href)\n",
    "\n",
    "        if len(headlines) >= n:\n",
    "            break\n",
    "\n",
    "    return headlines\n",
    "\n",
    "def extract_article_text(url, max_paragraphs=3):\n",
    "    headers = {\"User-Agent\": \"Mozilla/5.0\"}\n",
    "    res = requests.get(url, headers=headers)\n",
    "    soup = BeautifulSoup(res.content, \"lxml\")\n",
    "\n",
    "    # Buscar todos los párrafos <p>\n",
    "    paragraphs = soup.find_all(\"p\")\n",
    "\n",
    "    # Extraer texto de los primeros párrafos válidos\n",
    "    contenido = []\n",
    "    for p in paragraphs:\n",
    "        text = p.get_text(strip=True)\n",
    "        if len(text) > 40:  # filtramos textos muy cortos\n",
    "            contenido.append(text)\n",
    "        if len(contenido) >= max_paragraphs:\n",
    "            break\n",
    "\n",
    "    if not contenido:\n",
    "        return \"No se encontró contenido útil en los párrafos.\"\n",
    "\n",
    "    return \"\\n\\n\".join(contenido)\n",
    "\n",
    "\n"
   ]
  },
  {
   "cell_type": "code",
   "execution_count": 2,
   "id": "3dae5d37",
   "metadata": {
    "execution": {
     "iopub.execute_input": "2025-05-18T14:30:10.353042Z",
     "iopub.status.busy": "2025-05-18T14:30:10.352925Z",
     "iopub.status.idle": "2025-05-18T14:30:15.920400Z",
     "shell.execute_reply": "2025-05-18T14:30:15.920104Z"
    }
   },
   "outputs": [
    {
     "name": "stdout",
     "output_type": "stream",
     "text": [
      "\n",
      "📰 1. Big changes to Social Security have some people worried. What to expect.Controversial changes at the Social Security Administration ramped up worries from Yahoo Finance readers. Here are some of your questions and comments.\n",
      "🔗 https://finance.yahoo.com/news/big-changes-to-social-security-have-some-people-worried-what-to-expect-090027268.html\n",
      "📄 Contenido:\n"
     ]
    },
    {
     "name": "stdout",
     "output_type": "stream",
     "text": [
      "Big changes are happening with Social Security, and you have questions.\n",
      "\n",
      "My recent columns drew thousands of comments, largely centered on three big themes: fear of delayed checks and crumbling customer service at the Social Security Administration, Roth conversions on tax-deferred retirement accounts, and heart-wrenching explanations of why filing for benefits at 62 is not always a matter of choice.\n",
      "\n",
      "The Trump administration has made considerable andcontroversial changes, including massive staff and field office cuts, limiting phone service. and significantly ramping up the amount it garnishes per monthly check from Social Security beneficiaries who receive overpayments. These changes are impacting the nearly74 million retired senior citizensand disabled workers who currently receive benefits and the millions more on the cusp of doing so. ...\n",
      "\n",
      "📰 2. 13 jobs that don't require a college degree -- and won't be replaced by AIThese 13 positions don't require a college degree, offer good pay and career stability, and aren't at risk of replacement by AI.\n",
      "🔗 https://finance.yahoo.com/news/13-jobs-dont-require-college-090330185.html\n",
      "📄 Contenido:\n"
     ]
    },
    {
     "name": "stdout",
     "output_type": "stream",
     "text": [
      "If you think most Americans finish college, think again.\n",
      "\n",
      "Going to college is an American rite of passage. But not everyone goes to college, and many students never make it to graduation. Among Americans ages 25 and over, only 38% are college graduates, according to theEducation Data Initiative.\n",
      "\n",
      "Anew reportfrom the resume-writing service Resume Now identifies 13 careers that offer good pay and long-term stability, and that don’t require a college degree. Better still, none of the jobs is likely to be replaced by AI. ...\n",
      "\n",
      "📰 3. Chubb Limited (CB) Hikes Dividend as It Continues Dividend Aristocrat TraditionChubb Limited (NYSE:CB) announced a hike in its quarterly dividend, staying true to its shareholder-friendly track record. On May 15, Chubb Limited (NYSE:CB) declared a 6.6% hike in its quarterly dividend to $0.97 per share. Through this increase, the Zurich-based property-and-casualty insurance giant stretched its dividend growth streak to 32 years. The stock will trade […]\n",
      "🔗 https://finance.yahoo.com/news/chubb-limited-cb-hikes-dividend-125018979.html\n",
      "📄 Contenido:\n"
     ]
    },
    {
     "name": "stdout",
     "output_type": "stream",
     "text": [
      "Chubb Limited (NYSE:CB) announced a hike in its quarterly dividend, staying true to its shareholder-friendly track record.\n",
      "\n",
      "On May 15, Chubb Limited (NYSE:CB) declared a 6.6% hike in its quarterly dividend to $0.97 per share. Through this increase, the Zurich-based property-and-casualty insurance giant stretched its dividend growth streak to 32 years. The stock will trade ex-dividend on June 13. As of May 16, CB has a dividend yield of 1.32%.\n",
      "\n",
      "Chubb Limited (NYSE:CB) has consistently maintained a strong dividend policy over the years. As a Dividend Aristocrat, it has achieved a nearly 4% dividend growth rate over the past five years—an impressive figure when considering its overall shareholder returns. The stock has surged by 8% since the start of 2025, and its 12-month return came in at over 11%. ...\n"
     ]
    }
   ],
   "source": [
    "# Prueba\n",
    "noticias = get_top_news()\n",
    "\n",
    "if not noticias:\n",
    "    print(\"❗ No se encontraron titulares. Revisa el archivo yahoo_preview.html para inspeccionar la estructura.\")\n",
    "else:\n",
    "    for i, (title, url) in enumerate(noticias, 1):\n",
    "        print(f\"\\n📰 {i}. {title}\")\n",
    "        print(f\"🔗 {url}\")\n",
    "        print(\"📄 Contenido:\")\n",
    "        print(extract_article_text(url)[:1000], \"...\")\n"
   ]
  },
  {
   "cell_type": "code",
   "execution_count": 3,
   "id": "9d7f81c2",
   "metadata": {
    "execution": {
     "iopub.execute_input": "2025-05-18T14:30:15.921893Z",
     "iopub.status.busy": "2025-05-18T14:30:15.921778Z",
     "iopub.status.idle": "2025-05-18T14:30:20.856800Z",
     "shell.execute_reply": "2025-05-18T14:30:20.856492Z"
    }
   },
   "outputs": [
    {
     "name": "stdout",
     "output_type": "stream",
     "text": [
      "✅ Noticias guardadas en: ../data/noticias_yahoo.json\n"
     ]
    }
   ],
   "source": [
    "import json\n",
    "import os\n",
    "\n",
    "# Guardar las noticias extraídas en un archivo JSON\n",
    "noticias = get_top_news(n=3)\n",
    "\n",
    "# Guardamos cada noticia con título, URL y contenido\n",
    "noticias_extraidas = []\n",
    "\n",
    "for title, url in noticias:\n",
    "    contenido = extract_article_text(url, max_paragraphs=3)\n",
    "    noticia = {\n",
    "        \"titulo\": title,\n",
    "        \"url\": url,\n",
    "        \"contenido\": contenido\n",
    "    }\n",
    "    noticias_extraidas.append(noticia)\n",
    "\n",
    "# Define ubicación actual\n",
    "#src_path = \"./src\"\n",
    "#os.chdir(src_path)\n",
    "\n",
    "# Guardar en un archivo JSON\n",
    "output_path = \"../data/noticias_yahoo.json\"\n",
    "with open(output_path, \"w\", encoding=\"utf-8\") as f:\n",
    "    json.dump(noticias_extraidas, f, indent=2, ensure_ascii=False)\n",
    "\n",
    "print(f\"✅ Noticias guardadas en: {output_path}\")\n"
   ]
  }
 ],
 "metadata": {
  "kernelspec": {
   "display_name": "arquitectura",
   "language": "python",
   "name": "python3"
  },
  "language_info": {
   "codemirror_mode": {
    "name": "ipython",
    "version": 3
   },
   "file_extension": ".py",
   "mimetype": "text/x-python",
   "name": "python",
   "nbconvert_exporter": "python",
   "pygments_lexer": "ipython3",
   "version": "3.11.8"
  }
 },
 "nbformat": 4,
 "nbformat_minor": 5
}
