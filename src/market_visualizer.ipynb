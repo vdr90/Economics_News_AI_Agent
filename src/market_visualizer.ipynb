{
 "cells": [
  {
   "cell_type": "code",
   "execution_count": 1,
   "id": "55ca0ed2",
   "metadata": {
    "execution": {
     "iopub.execute_input": "2025-05-18T14:30:28.109883Z",
     "iopub.status.busy": "2025-05-18T14:30:28.109738Z",
     "iopub.status.idle": "2025-05-18T14:30:30.303092Z",
     "shell.execute_reply": "2025-05-18T14:30:30.302780Z"
    }
   },
   "outputs": [
    {
     "name": "stderr",
     "output_type": "stream",
     "text": [
      "/var/folders/pk/5vtlxqtx3l11lzrj4g1k6sl80000gn/T/ipykernel_35830/69063533.py:21: UserWarning: Could not infer format, so each element will be parsed individually, falling back to `dateutil`. To ensure parsing is consistent and as-expected, please specify a format.\n",
      "  fx_data = pd.read_csv(\"../data/fx_data.csv\", parse_dates=[\"Fecha\"], dayfirst=True).set_index(\"Fecha\")\n",
      "/var/folders/pk/5vtlxqtx3l11lzrj4g1k6sl80000gn/T/ipykernel_35830/69063533.py:22: UserWarning: Could not infer format, so each element will be parsed individually, falling back to `dateutil`. To ensure parsing is consistent and as-expected, please specify a format.\n",
      "  crude_data = pd.read_csv(\"../data/crude_prices.csv\", parse_dates=[\"Fecha\"], dayfirst=True).set_index(\"Fecha\")\n",
      "/var/folders/pk/5vtlxqtx3l11lzrj4g1k6sl80000gn/T/ipykernel_35830/69063533.py:23: UserWarning: Could not infer format, so each element will be parsed individually, falling back to `dateutil`. To ensure parsing is consistent and as-expected, please specify a format.\n",
      "  rates_data = pd.read_csv(\"../data/rates_data.csv\", parse_dates=[\"Fecha\"], dayfirst=True).set_index(\"Fecha\")\n",
      "/var/folders/pk/5vtlxqtx3l11lzrj4g1k6sl80000gn/T/ipykernel_35830/69063533.py:34: FutureWarning: last is deprecated and will be removed in a future version. Please create a mask and filter using `.loc` instead\n",
      "  fx_data[\"MXN\"].dropna().last(\"30D\").plot(ax=ax, title=\"Tipo de cambio: MXN\")\n"
     ]
    },
    {
     "name": "stderr",
     "output_type": "stream",
     "text": [
      "/var/folders/pk/5vtlxqtx3l11lzrj4g1k6sl80000gn/T/ipykernel_35830/69063533.py:43: FutureWarning: last is deprecated and will be removed in a future version. Please create a mask and filter using `.loc` instead\n",
      "  rates_data[\"USY\"].dropna().last(\"30D\").plot(ax=ax, title=\"Tasa de interés 10 años (EE.UU.)\")\n"
     ]
    },
    {
     "name": "stderr",
     "output_type": "stream",
     "text": [
      "/var/folders/pk/5vtlxqtx3l11lzrj4g1k6sl80000gn/T/ipykernel_35830/69063533.py:65: FutureWarning: \n",
      "\n",
      "Passing `palette` without assigning `hue` is deprecated and will be removed in v0.14.0. Assign the `y` variable to `hue` and set `legend=False` for the same effect.\n",
      "\n",
      "  sns.barplot(data=df_niveles, y=\"Índice\", x=\"Nivel\", ax=ax, palette=\"pastel\")\n"
     ]
    },
    {
     "name": "stderr",
     "output_type": "stream",
     "text": [
      "/var/folders/pk/5vtlxqtx3l11lzrj4g1k6sl80000gn/T/ipykernel_35830/69063533.py:77: FutureWarning: \n",
      "\n",
      "Passing `palette` without assigning `hue` is deprecated and will be removed in v0.14.0. Assign the `x` variable to `hue` and set `legend=False` for the same effect.\n",
      "\n",
      "  sns.barplot(x=\"Índice\", y=\"Nivel\", data=df_niveles, palette=colors, ax=ax)\n",
      "/var/folders/pk/5vtlxqtx3l11lzrj4g1k6sl80000gn/T/ipykernel_35830/69063533.py:77: UserWarning: Numpy array is not a supported type for `palette`. Please convert your palette to a list. This will become an error in v0.14\n",
      "  sns.barplot(x=\"Índice\", y=\"Nivel\", data=df_niveles, palette=colors, ax=ax)\n",
      "/var/folders/pk/5vtlxqtx3l11lzrj4g1k6sl80000gn/T/ipykernel_35830/69063533.py:78: UserWarning: set_ticklabels() should only be used with a fixed number of ticks, i.e. after set_ticks() or using a FixedLocator.\n",
      "  ax.set_xticklabels(ax.get_xticklabels(), rotation=45)\n"
     ]
    },
    {
     "name": "stderr",
     "output_type": "stream",
     "text": [
      "/var/folders/pk/5vtlxqtx3l11lzrj4g1k6sl80000gn/T/ipykernel_35830/69063533.py:88: FutureWarning: \n",
      "\n",
      "Passing `palette` without assigning `hue` is deprecated and will be removed in v0.14.0. Assign the `x` variable to `hue` and set `legend=False` for the same effect.\n",
      "\n",
      "  sns.barplot(data=df_var, x=\"Índice\", y=\"Variación\", palette=\"coolwarm\", ax=ax)\n",
      "/var/folders/pk/5vtlxqtx3l11lzrj4g1k6sl80000gn/T/ipykernel_35830/69063533.py:93: UserWarning: set_ticklabels() should only be used with a fixed number of ticks, i.e. after set_ticks() or using a FixedLocator.\n",
      "  ax.set_xticklabels(ax.get_xticklabels(), rotation=45)\n"
     ]
    }
   ],
   "source": [
    "import os\n",
    "from datetime import datetime\n",
    "import matplotlib.pyplot as plt\n",
    "import seaborn as sns\n",
    "import pandas as pd\n",
    "import json\n",
    "\n",
    "# Estilo\n",
    "plt.style.use(\"seaborn-v0_8-darkgrid\")\n",
    "sns.set_palette(\"Set2\")\n",
    "\n",
    "# Define ubicación actual\n",
    "#src_path = \"./src\"\n",
    "#os.chdir(src_path)\n",
    "\n",
    "# Crear carpeta local\n",
    "assets_dir = \"../assets\"\n",
    "os.makedirs(assets_dir, exist_ok=True)\n",
    "\n",
    "# Cargar archivos\n",
    "fx_data = pd.read_csv(\"../data/fx_data.csv\", parse_dates=[\"Fecha\"], dayfirst=True).set_index(\"Fecha\")\n",
    "crude_data = pd.read_csv(\"../data/crude_prices.csv\", parse_dates=[\"Fecha\"], dayfirst=True).set_index(\"Fecha\")\n",
    "rates_data = pd.read_csv(\"../data/rates_data.csv\", parse_dates=[\"Fecha\"], dayfirst=True).set_index(\"Fecha\")\n",
    "\n",
    "fx_data = fx_data.apply(pd.to_numeric, errors=\"coerce\")\n",
    "crude_data = crude_data.apply(pd.to_numeric, errors=\"coerce\")\n",
    "rates_data = rates_data.apply(pd.to_numeric, errors=\"coerce\")\n",
    "\n",
    "with open(\"../data/scraped_data.json\", \"r\", encoding=\"utf-8\") as f:\n",
    "    scraped = json.load(f)\n",
    "\n",
    "# Gráfica tipo de cambio\n",
    "fig, ax = plt.subplots(figsize=(10, 4))\n",
    "fx_data[\"MXN\"].dropna().last(\"30D\").plot(ax=ax, title=\"Tipo de cambio: MXN\")\n",
    "ax.set_ylabel(\"Valor vs USD\")\n",
    "ax.set_xlabel(\"Fecha\")\n",
    "fig.tight_layout()\n",
    "fig.savefig(f\"{assets_dir}/tipo_cambio.png\", dpi=300)\n",
    "plt.close(fig)\n",
    "\n",
    "# Gráfica tasa de interés\n",
    "fig, ax = plt.subplots(figsize=(10, 4))\n",
    "rates_data[\"USY\"].dropna().last(\"30D\").plot(ax=ax, title=\"Tasa de interés 10 años (EE.UU.)\")\n",
    "ax.set_ylabel(\"%\")\n",
    "ax.set_xlabel(\"Fecha\")\n",
    "fig.tight_layout()\n",
    "fig.savefig(f\"{assets_dir}/tasa_10y.png\", dpi=300)\n",
    "plt.close(fig)\n",
    "\n",
    "# Gráfica precios del crudo\n",
    "crude_filtered = crude_data.loc[crude_data.index >= \"2023-01-01\"]\n",
    "fig, ax = plt.subplots(figsize=(10, 5))\n",
    "crude_filtered.plot(ax=ax, title=\"Precios del petróleo desde enero 2023\")\n",
    "ax.set_ylabel(\"USD por barril\")\n",
    "ax.set_xlabel(\"Fecha\")\n",
    "fig.tight_layout()\n",
    "fig.savefig(f\"{assets_dir}/crudo.png\", dpi=300)\n",
    "plt.close(fig)\n",
    "\n",
    "# Gráfica niveles de índices (horizontal)\n",
    "niveles = scraped.get(\"indices\", {})\n",
    "df_niveles = pd.DataFrame(niveles.items(), columns=[\"Índice\", \"Nivel\"]).dropna()\n",
    "df_niveles = df_niveles.sort_values(\"Nivel\", ascending=True)\n",
    "fig, ax = plt.subplots(figsize=(12, 8))\n",
    "sns.barplot(data=df_niveles, y=\"Índice\", x=\"Nivel\", ax=ax, palette=\"pastel\")\n",
    "ax.set_title(\"Niveles actuales de índices bursátiles\")\n",
    "ax.set_xlabel(\"Puntos\")\n",
    "ax.set_ylabel(\"\")\n",
    "fig.tight_layout()\n",
    "fig.savefig(f\"{assets_dir}/niveles_indices.png\", dpi=300)\n",
    "plt.close(fig)\n",
    "\n",
    "# Gráfica niveles coloreados\n",
    "fig, ax = plt.subplots(figsize=(12, 5))\n",
    "norm = plt.Normalize(df_niveles[\"Nivel\"].min(), df_niveles[\"Nivel\"].max())\n",
    "colors = plt.cm.viridis(norm(df_niveles[\"Nivel\"]))\n",
    "sns.barplot(x=\"Índice\", y=\"Nivel\", data=df_niveles, palette=colors, ax=ax)\n",
    "ax.set_xticklabels(ax.get_xticklabels(), rotation=45)\n",
    "ax.set_title(\"Niveles actuales de índices bursátiles (coloreado)\")\n",
    "fig.tight_layout()\n",
    "fig.savefig(f\"{assets_dir}/niveles_indices_colores.png\", dpi=300)\n",
    "plt.close(fig)\n",
    "\n",
    "# Gráfica de variación diaria\n",
    "variaciones = scraped.get(\"indices_variacion\", {})\n",
    "df_var = pd.DataFrame(variaciones.items(), columns=[\"Índice\", \"Variación\"]).dropna()\n",
    "fig, ax = plt.subplots(figsize=(12, 5))\n",
    "sns.barplot(data=df_var, x=\"Índice\", y=\"Variación\", palette=\"coolwarm\", ax=ax)\n",
    "ax.axhline(0, color=\"gray\", linestyle=\"--\")\n",
    "ax.set_title(\"Variación diaria de índices bursátiles\")\n",
    "ax.set_ylabel(\"% diario\")\n",
    "ax.set_xlabel(\"\")\n",
    "ax.set_xticklabels(ax.get_xticklabels(), rotation=45)\n",
    "fig.tight_layout()\n",
    "fig.savefig(f\"{assets_dir}/variacion_indices.png\", dpi=300)\n",
    "plt.close(fig)\n"
   ]
  }
 ],
 "metadata": {
  "kernelspec": {
   "display_name": "arquitectura",
   "language": "python",
   "name": "python3"
  },
  "language_info": {
   "codemirror_mode": {
    "name": "ipython",
    "version": 3
   },
   "file_extension": ".py",
   "mimetype": "text/x-python",
   "name": "python",
   "nbconvert_exporter": "python",
   "pygments_lexer": "ipython3",
   "version": "3.11.8"
  }
 },
 "nbformat": 4,
 "nbformat_minor": 5
}
