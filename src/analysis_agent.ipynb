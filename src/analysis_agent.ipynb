{
 "cells": [
  {
   "cell_type": "code",
   "execution_count": 1,
   "id": "cb3ed2ec",
   "metadata": {
    "execution": {
     "iopub.execute_input": "2025-05-18T01:53:19.191406Z",
     "iopub.status.busy": "2025-05-18T01:53:19.191211Z",
     "iopub.status.idle": "2025-05-18T01:53:22.755409Z",
     "shell.execute_reply": "2025-05-18T01:53:22.754988Z"
    }
   },
   "outputs": [
    {
     "name": "stdout",
     "output_type": "stream",
     "text": [
      "Noticias relevantes:\n",
      "\n",
      "- **BMO Capital mantiene un precio objetivo de $1,200 para Netflix, Inc. (NFLX) y una calificación de \"Sobrepeso\"**\n",
      "  - El banco está optimista sobre la perspectiva de la capa publicitaria de la empresa.\n",
      "  - Se espera un crecimiento impresionante en los ingresos de Netflix en la segunda mitad del año, tras un aumento del 34% en el número de usuarios activos mensuales de su capa publicitaria.\n",
      "\n",
      "- **Perspectiva alcista sobre Palantir Technologies Inc. (PLTR)**\n",
      "  - A pesar de una caída del 10% en el precio de las acciones de PLTR después de los resultados financieros, se considera que la reacción del mercado es temporal y no afectará la trayectoria a largo plazo de la empresa.\n",
      "  - Palantir se destaca por su combinación excepcional de escala, crecimiento y liderazgo en inteligencia artificial y análisis de datos, lo que justifica su valuación premium.\n",
      "\n",
      "- **Tesis alcista sobre Air Lease Corporation (AL)**\n",
      "  - AL opera una plataforma de arrendamiento de aeronaves escalada y resistente, con un modelo probado de adquisición de nuevas aeronaves y arrendamiento a largo plazo a más de 200 aerolíneas en 70 países.\n",
      "  - La empresa posee una flota de 487 aeronaves valuadas en $28.6 mil millones, con un promedio de edad de flota de solo 4.7 años y un plazo de arrendamiento de 7.2 años, además de una cartera de pedidos futuros sólida que garantiza flujos de efectivo predecibles.\n"
     ]
    }
   ],
   "source": [
    "import json\n",
    "from openai import OpenAI\n",
    "\n",
    "# Define ubicación actual\n",
    "#src_path = \"./src\"\n",
    "#os.chdir(src_path)\n",
    "\n",
    "# Leer noticias desde el JSON\n",
    "with open(\"../data/noticias_yahoo.json\", \"r\", encoding=\"utf-8\") as f:\n",
    "    data = json.load(f)\n",
    "\n",
    "# Extraer los contenidos individuales\n",
    "noticias = [item[\"contenido\"] for item in data]\n",
    "\n",
    "# Unir en un solo texto para enviar al modelo\n",
    "noticias_texto = \"\\n\\n\".join(noticias)\n",
    "\n",
    "# Inicializar cliente de OpenAI\n",
    "openai_client = OpenAI()\n",
    "\n",
    "# Llamada al modelo con estructura de resumen jerárquico\n",
    "respuesta = openai_client.chat.completions.create(\n",
    "    model=\"gpt-3.5-turbo\",\n",
    "    messages=[\n",
    "        {\n",
    "            \"role\": \"system\",\n",
    "            \"content\": (\n",
    "                \"Eres un analista económico. Recibirás tres noticias económicas en inglés. \"\n",
    "                \"Tu tarea es traducir cada noticia al español y presentar su resumen de cada noticia en el siguiente formato:\\n\\n\"\n",
    "                \"- **[Título en español que resuma la noticia]**\\n\"\n",
    "                \"  - [subpunto 1 explicativo]\\n\"\n",
    "                \"  - [subpunto 2 explicativo]\\n\"\n",
    "                \"  - …\\n\\n\"\n",
    "                \"Usa un lenguaje claro y profesional como si estuvieras escribiendo para un boletín financiero.\"\n",
    "            )\n",
    "        },\n",
    "        {\n",
    "            \"role\": \"user\",\n",
    "            \"content\": noticias_texto\n",
    "        }\n",
    "    ],\n",
    "    temperature=0.3\n",
    ")\n",
    "\n",
    "# Mostrar resultado\n",
    "bullets_noticias = respuesta.choices[0].message.content\n",
    "print(\"Noticias relevantes:\\n\")\n",
    "print(bullets_noticias)\n"
   ]
  },
  {
   "cell_type": "code",
   "execution_count": 2,
   "id": "1e96048c",
   "metadata": {
    "execution": {
     "iopub.execute_input": "2025-05-18T01:53:22.757489Z",
     "iopub.status.busy": "2025-05-18T01:53:22.757322Z",
     "iopub.status.idle": "2025-05-18T01:53:27.053473Z",
     "shell.execute_reply": "2025-05-18T01:53:27.052997Z"
    }
   },
   "outputs": [
    {
     "name": "stdout",
     "output_type": "stream",
     "text": [
      "\n",
      "Resumen del mercado:\n",
      "\n",
      "**Mercado accionario**\n",
      "- Los índices bursátiles muestran una tendencia mixta, con el S&P 500 y el Dow Jones en niveles altos, mientras que el Nasdaq ha experimentado una ligera caída. Esto puede indicar cierta cautela entre los inversores, con cierta preferencia por activos más seguros.\n",
      "- El Bovespa de Brasil ha alcanzado un nivel elevado, lo que podría reflejar optimismo en la economía del país.\n",
      "- El Nikkei de Japón y el Hang Seng de Hong Kong muestran números estables, lo que podría interpretarse como una actitud de espera en esos mercados.\n",
      "\n",
      "**Divisas**\n",
      "- El real brasileño (BRL) y el peso mexicano (MXN) se mantienen en niveles relativamente estables frente al dólar estadounidense, lo que sugiere cierta estabilidad en esas economías.\n",
      "- El rublo ruso (RUB) y la lira turca (TRY) muestran una ligera depreciación, lo que podría indicar cierta aversión al riesgo en esos mercados emergentes.\n",
      "\n",
      "**Renta fija**\n",
      "- La tasa de interés en bonos del Tesoro de EE. UU. se mantiene en un nivel moderado (4.44%), lo que podría reflejar una postura de cautela en el mercado de renta fija.\n",
      "\n",
      "**Petróleo y materias primas**\n",
      "- Los precios del petróleo WTI y Brent se mantienen en niveles estables, lo que podría indicar un equilibrio entre la oferta y la demanda en el mercado de energía.\n",
      "- El precio del oro ha experimentado un aumento significativo, lo cual podría interpretarse como una búsqueda de activos refugio en un contexto de incertidumbre económica global.\n"
     ]
    }
   ],
   "source": [
    "import json\n",
    "from openai import OpenAI\n",
    "\n",
    "# Leer datos del mercado desde el JSON\n",
    "with open(\"../data/scraped_data.json\", \"r\", encoding=\"utf-8\") as f:\n",
    "    data = json.load(f)\n",
    "\n",
    "fecha = data[\"fecha\"]\n",
    "fx = data.get(\"fx\", {})\n",
    "crude = data.get(\"crudo\", {})\n",
    "gold = data.get(\"oro\", {})\n",
    "rates = data.get(\"tasas\", {})\n",
    "indices = data.get(\"indices\", {})\n",
    "\n",
    "# Preparar entrada para el modelo\n",
    "texto_entrada = (\n",
    "    f\"Datos financieros del {fecha}:\\n\"\n",
    "    f\"Divisas (vs USD): {fx}\\n\\n\"\n",
    "    f\"Tasas de interés: {rates}\\n\\n\"\n",
    "    f\"Índices bursátiles: {indices}\\n\\n\"\n",
    "    f\"Precios del petróleo: {crude}\\n\\n\"\n",
    "    f\"Precio del oro: {gold}\"\n",
    ")\n",
    "\n",
    "# Llamar a OpenAI con enfoque interpretativo\n",
    "openai_client = OpenAI()\n",
    "respuesta = openai_client.chat.completions.create(\n",
    "    model=\"gpt-3.5-turbo\",\n",
    "    messages=[\n",
    "        {\n",
    "            \"role\": \"system\",\n",
    "            \"content\": (\n",
    "                \"Eres un analista financiero que redacta un resumen diario del mercado.\\n\"\n",
    "                \"Analiza los datos numéricos provistos (divisas, tasas, bolsas, oro, petróleo), detecta tendencias o cambios significativos.\\n\"\n",
    "                \"Evalúa si los mercados muestran optimismo, cautela o aversión al riesgo, y redacta bullets organizados por categoría:\\n\"\n",
    "                \"• **Mercado accionario**\\n• **Divisas**\\n• **Renta fija**\\n• **Petróleo y materias primas**\\n\"\n",
    "                \"Cada bullet debe iniciar con un encabezado en negritas seguido de un análisis interpretativo (NO repetir solo cifras).\"\n",
    "            )\n",
    "        },\n",
    "        {\n",
    "            \"role\": \"user\",\n",
    "            \"content\": texto_entrada\n",
    "        }\n",
    "    ],\n",
    "    temperature=0.4\n",
    ")\n",
    "\n",
    "bullets_mercado = respuesta.choices[0].message.content\n",
    "print(\"\\nResumen del mercado:\\n\")\n",
    "\n",
    "print(bullets_mercado)\n"
   ]
  },
  {
   "cell_type": "code",
   "execution_count": 3,
   "id": "50cc6b23",
   "metadata": {
    "execution": {
     "iopub.execute_input": "2025-05-18T01:53:27.055763Z",
     "iopub.status.busy": "2025-05-18T01:53:27.055479Z",
     "iopub.status.idle": "2025-05-18T01:53:27.060278Z",
     "shell.execute_reply": "2025-05-18T01:53:27.059891Z"
    }
   },
   "outputs": [
    {
     "name": "stdout",
     "output_type": "stream",
     "text": [
      "📝 Noticias guardadas en: ../data/bullets_noticias.txt\n"
     ]
    }
   ],
   "source": [
    "# Guardar los bullets traducidos a un archivo .txt\n",
    "output_path = \"../data/bullets_noticias.txt\"\n",
    "\n",
    "with open(output_path, \"w\", encoding=\"utf-8\") as f:\n",
    "    f.write(bullets_noticias)\n",
    "\n",
    "print(f\"📝 Noticias guardadas en: {output_path}\")\n"
   ]
  },
  {
   "cell_type": "code",
   "execution_count": 4,
   "id": "fc3de0bb",
   "metadata": {
    "execution": {
     "iopub.execute_input": "2025-05-18T01:53:27.062389Z",
     "iopub.status.busy": "2025-05-18T01:53:27.062109Z",
     "iopub.status.idle": "2025-05-18T01:53:27.065401Z",
     "shell.execute_reply": "2025-05-18T01:53:27.065051Z"
    }
   },
   "outputs": [
    {
     "name": "stdout",
     "output_type": "stream",
     "text": [
      "📝 Análisis del mercado guardado en: ../data/bullets_mercado.txt\n"
     ]
    }
   ],
   "source": [
    "# Guardar análisis del mercado en archivo de texto\n",
    "output_path = \"../data/bullets_mercado.txt\"\n",
    "\n",
    "with open(output_path, \"w\", encoding=\"utf-8\") as f:\n",
    "    f.write(bullets_mercado)\n",
    "\n",
    "print(f\"📝 Análisis del mercado guardado en: {output_path}\")\n"
   ]
  }
 ],
 "metadata": {
  "kernelspec": {
   "display_name": "arquitectura",
   "language": "python",
   "name": "python3"
  },
  "language_info": {
   "codemirror_mode": {
    "name": "ipython",
    "version": 3
   },
   "file_extension": ".py",
   "mimetype": "text/x-python",
   "name": "python",
   "nbconvert_exporter": "python",
   "pygments_lexer": "ipython3",
   "version": "3.11.8"
  }
 },
 "nbformat": 4,
 "nbformat_minor": 5
}
